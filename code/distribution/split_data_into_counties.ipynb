{
 "cells": [
  {
   "cell_type": "markdown",
   "metadata": {},
   "source": [
    "# Analyzing download speeds in Kentucky counties using Python"
   ]
  },
  {
   "cell_type": "code",
   "execution_count": 1,
   "metadata": {},
   "outputs": [],
   "source": [
    "%matplotlib inline\n",
    "\n",
    "from datetime import datetime\n",
    "\n",
    "import geopandas as gp\n",
    "import matplotlib\n",
    "import matplotlib.pyplot as plt\n",
    "import pandas as pd\n",
    "import numpy as np\n",
    "from tqdm import tqdm\n",
    "import os\n",
    "\n",
    "from shapely.geometry import Point\n",
    "from adjustText import adjust_text"
   ]
  },
  {
   "cell_type": "markdown",
   "metadata": {},
   "source": [
    "---\n",
    "\n",
    "## Download data\n",
    "\n",
    "First, download the data using the link below"
   ]
  },
  {
   "cell_type": "code",
   "execution_count": 2,
   "metadata": {},
   "outputs": [],
   "source": [
    "def quarter_start(year: int, q: int) -> datetime:\n",
    "    if not 1 <= q <= 4:\n",
    "        raise ValueError(\"Quarter must be within [1, 2, 3, 4]\")\n",
    "\n",
    "    month = [1, 4, 7, 10]\n",
    "    return datetime(year, month[q - 1], 1)\n",
    "\n",
    "\n",
    "def get_tile_url(service_type: str, year: int, q: int) -> str:\n",
    "    dt = quarter_start(year, q)\n",
    "\n",
    "    base_url = \"https://ookla-open-data.s3-us-west-2.amazonaws.com/shapefiles/performance\"\n",
    "    url = f\"{base_url}/type%3D{service_type}/year%3D{dt:%Y}/quarter%3D{q}/{dt:%Y-%m-%d}_performance_{service_type}_tiles.zip\"\n",
    "    return url"
   ]
  },
  {
   "cell_type": "code",
   "execution_count": 3,
   "metadata": {},
   "outputs": [
    {
     "name": "stderr",
     "output_type": "stream",
     "text": [
      "Processing county: 24047: 100%|██████████| 4/4 [1:09:03<00:00, 1035.88s/it]\n"
     ]
    }
   ],
   "source": [
    "year = 2022\n",
    "t = \"fixed\"\n",
    "# For every quarter\n",
    "pbar = tqdm(range(1,5))\n",
    "for q in pbar:\n",
    "    tile_url = get_tile_url(\"fixed\", year, q)\n",
    "    tiles = gp.read_file(tile_url)\n",
    "    tiles['year'] = year\n",
    "    tiles['q'] = q\n",
    "    county_url = 'https://www2.census.gov/geo/tiger/TIGER2020PL/LAYER/TABBLOCK/2020/tl_2020_{state}_tabblock20.zip'\n",
    "    pbar.set_description('Tiles read')\n",
    "    \n",
    "    # For the states of interest (alabama, dc, georgia, maryland, virginia)\n",
    "    for state in ['24']: #['01', '11', '13', '24', '51']:\n",
    "        pbar.set_description('Parsing for state: %s' % state)\n",
    "        counties = gp.read_file(county_url.format(state=state))\n",
    "        state_counties = counties.to_crs(4326)\n",
    "        tiles_in_state_counties = gp.sjoin(tiles, state_counties, how=\"inner\", predicate='intersects')\n",
    "        # convert to Mbps for easier reading\n",
    "        tiles_in_state_counties['avg_d_mbps'] = tiles_in_state_counties['avg_d_kbps'] / 1000\n",
    "        tiles_in_state_counties['avg_u_mbps'] = tiles_in_state_counties['avg_u_kbps'] / 1000\n",
    "        tiles_in_state_counties['county'] = tiles_in_state_counties['GEOID20'].apply(lambda x: x[:5])\n",
    "        \n",
    "        for county in tiles_in_state_counties['county'].unique():\n",
    "            pbar.set_description('Processing county: %s' % county)\n",
    "            pdf = tiles_in_state_counties[tiles_in_state_counties['county'] == county]\n",
    "            pdf = pdf.reindex(columns = ['GEOID20', 'avg_d_mbps', 'avg_u_mbps', 'tests', 'devices', 'avg_lat_ms', 'year', 'q'])\n",
    "            save_path = '../data/%s.csv.xz' % county\n",
    "            # Check if a previous one exists\n",
    "            if os.path.isfile(save_path):                \n",
    "                old_pdf = pd.read_csv('../data/%s.csv.xz' % county)\n",
    "                pdf = pd.concat([old_pdf, pdf])\n",
    "                pdf.drop_duplicates(inplace=True) # remove duplicates\n",
    "            pdf.to_csv('../data/%s.csv.xz' % county, index = False)        "
   ]
  },
  {
   "cell_type": "markdown",
   "metadata": {},
   "source": [
    "---"
   ]
  }
 ],
 "metadata": {
  "kernelspec": {
   "display_name": "Python [conda env:.conda-.nad_venv]",
   "language": "python",
   "name": "conda-env-.conda-.nad_venv-py"
  },
  "language_info": {
   "codemirror_mode": {
    "name": "ipython",
    "version": 3
   },
   "file_extension": ".py",
   "mimetype": "text/x-python",
   "name": "python",
   "nbconvert_exporter": "python",
   "pygments_lexer": "ipython3",
   "version": "3.10.11"
  }
 },
 "nbformat": 4,
 "nbformat_minor": 4
}
